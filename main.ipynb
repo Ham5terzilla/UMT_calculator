{
 "cells": [
  {
   "cell_type": "markdown",
   "id": "1e82d6ea",
   "metadata": {},
   "source": [
    "# Getting start with crating_system package\n",
    "First of all, initialize all imports. \n",
    "###### Note, that in real project you shouldn't import unnecessary modules, but in demonstration purposes we would do it."
   ]
  },
  {
   "cell_type": "code",
   "execution_count": 2,
   "id": "d05c00a8",
   "metadata": {},
   "outputs": [],
   "source": [
    "from crafting_system.item_factory import ItemFactory"
   ]
  }
 ],
 "metadata": {
  "kernelspec": {
   "display_name": "Python 3",
   "language": "python",
   "name": "python3"
  },
  "language_info": {
   "codemirror_mode": {
    "name": "ipython",
    "version": 3
   },
   "file_extension": ".py",
   "mimetype": "text/x-python",
   "name": "python",
   "nbconvert_exporter": "python",
   "pygments_lexer": "ipython3",
   "version": "3.12.6"
  }
 },
 "nbformat": 4,
 "nbformat_minor": 5
}
